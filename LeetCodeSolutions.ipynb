{
 "cells": [
  {
   "cell_type": "markdown",
   "id": "fc6725d7-f859-4396-9558-5ec142c1f61e",
   "metadata": {},
   "source": [
    "# Sequences"
   ]
  },
  {
   "cell_type": "code",
   "execution_count": null,
   "id": "16495055-a1e0-441a-b48a-78bf82a1ca5e",
   "metadata": {},
   "outputs": [],
   "source": [
    "# Add Node to LInked List\n",
    "def push(self, new_data):\n",
    "  \n",
    "    # 1 & 2: Allocate the Node &\n",
    "    #        Put in the data\n",
    "    new_node = Node(new_data)\n",
    "          \n",
    "    # 3. Make next of new Node as head\n",
    "    new_node.next = self.head\n",
    "          \n",
    "    # 4. Move the head to point to new Node \n",
    "    self.head = new_node\n",
    "    \n",
    "# Binary Tree\n",
    "def insert(temp,key):\n",
    " \n",
    "    if not temp:\n",
    "        root = newNode(key)\n",
    "        return\n",
    "    q = []\n",
    "    q.append(temp)\n",
    " \n",
    "    # Do level order traversal until we find\n",
    "    # an empty place.\n",
    "    while (len(q)):\n",
    "        temp = q[0]\n",
    "        q.pop(0)\n",
    " \n",
    "        if (not temp.left):\n",
    "            temp.left = newNode(key)\n",
    "            break\n",
    "        else:\n",
    "            q.append(temp.left)\n",
    " \n",
    "        if (not temp.right):\n",
    "            temp.right = newNode(key)\n",
    "            break\n",
    "        else:\n",
    "            q.append(temp.right)"
   ]
  },
  {
   "cell_type": "code",
   "execution_count": 53,
   "id": "697c5a47-871a-4638-84eb-cc0053c35d8c",
   "metadata": {},
   "outputs": [
    {
     "data": {
      "text/plain": [
       "1"
      ]
     },
     "execution_count": 53,
     "metadata": {},
     "output_type": "execute_result"
    }
   ],
   "source": [
    "c = {}\n",
    "c.get(1, 0) +1"
   ]
  },
  {
   "cell_type": "code",
   "execution_count": 127,
   "id": "bb237aac-f886-4635-ae34-cfc18a879471",
   "metadata": {},
   "outputs": [
    {
     "data": {
      "text/plain": [
       "{1: 5, 2: 2, 3: 1, 8: 1}"
      ]
     },
     "execution_count": 127,
     "metadata": {},
     "output_type": "execute_result"
    }
   ],
   "source": [
    "k = [1,1,1,2,3,1,2,1,8]\n",
    "hm = {}\n",
    "for x in k: \n",
    "    if x not in hm: \n",
    "        hm[x] = 1\n",
    "    else: \n",
    "        hm[x] += 1\n",
    "        \n",
    "\n"
   ]
  },
  {
   "cell_type": "code",
   "execution_count": null,
   "id": "7e3670d7-c46d-43b5-bc50-95681f6d26c9",
   "metadata": {},
   "outputs": [],
   "source": [
    "def twoSum( nums: List[int], target: int) -> List[int]:\n",
    "        dic={}\n",
    "        ans=[]\n",
    "        for i in range(0,len(nums),1):\n",
    "            if(nums[i]) in dic:\n",
    "                ans.append(dic[nums[i]])\n",
    "                ans.append(i)\n",
    "                break\n",
    "            else:\n",
    "                dic[target-nums[i]]=i\n",
    "        return ans \n"
   ]
  },
  {
   "cell_type": "code",
   "execution_count": null,
   "id": "05765ff5-1db6-4241-b66e-e5604a438a6d",
   "metadata": {},
   "outputs": [],
   "source": [
    "def containsDuplicate(self, nums: List[int]) -> bool:\n",
    "        hashmap = {}\n",
    "        for x in nums: \n",
    "            if x not in hashmap: \n",
    "                hashmap[x] = 1\n",
    "            else: \n",
    "                return True\n",
    "        return False"
   ]
  },
  {
   "cell_type": "code",
   "execution_count": null,
   "id": "6236b4f3-2869-4d1f-94fa-022d80fb2be9",
   "metadata": {},
   "outputs": [],
   "source": [
    "\n",
    "def maxProfit(self,prices):\n",
    "    left = 0 #Buy\n",
    "    right = 1 #Sell\n",
    "    max_profit = 0\n",
    "    while right < len(prices):\n",
    "        currentProfit = prices[right] - prices[left] #our current Profit\n",
    "        if prices[left] < prices[right]:\n",
    "            max_profit =max(currentProfit,max_profit)\n",
    "        else:\n",
    "            left = right\n",
    "        right += 1\n",
    "    return max_profit"
   ]
  },
  {
   "cell_type": "code",
   "execution_count": null,
   "id": "22b08f35-786e-4274-b2e3-715955b218a0",
   "metadata": {},
   "outputs": [],
   "source": [
    "def isAnagram(self, s: str, t: str) -> bool:\n",
    "    flag = True\n",
    "    if len(s) != len(t): \n",
    "        flag = False\n",
    "    else:\n",
    "        letters = \"abcdefghijklmnopqrstuvwxyz\"\n",
    "        for letter in letters:\n",
    "            if s.count(letter) != t.count(letter):\n",
    "                flag = False\n",
    "                break\n",
    "    return flag\n"
   ]
  },
  {
   "cell_type": "code",
   "execution_count": 1,
   "id": "9d001f19-3474-4a23-b991-92ac129b5718",
   "metadata": {},
   "outputs": [],
   "source": [
    "# Valid Parenthesis \n",
    "def isValid(self, s: str) -> bool:\n",
    "        '''\n",
    "        Use two data structures:\n",
    "            - dictionary: to store the mapping.\n",
    "            - list: as a stack to store the validation order\n",
    "        '''\n",
    "        if len(s) <= 1:\n",
    "            return False\n",
    "\n",
    "        dic = {\n",
    "            '(': ')',\n",
    "            '{': '}',\n",
    "            '[': ']',\n",
    "        }\n",
    "        left = []\n",
    "        for x in s:\n",
    "            if x in dic.keys():\n",
    "                left.append(x)\n",
    "            elif x in dic.values():\n",
    "                if len(left) <= 0 or dic.get(left.pop()) != x:\n",
    "                    return False\n",
    "        return len(left) == 0"
   ]
  },
  {
   "cell_type": "code",
   "execution_count": 3,
   "id": "ec81d2db-d3a0-484d-8fe7-b763e1aa9e84",
   "metadata": {},
   "outputs": [],
   "source": [
    "def maxSubArray(self, nums) -> int:\n",
    "        n = len(nums)\n",
    "        prefix_sum = [0]*(n+1)\n",
    "\n",
    "        for i in range(1, n+1):\n",
    "            prefix_sum[i] = prefix_sum[i-1] + nums[i-1]\n",
    "\n",
    "        min_prefix_sum = 0\n",
    "        ans = nums[0]\n",
    "        for i in range(1, n+1):\n",
    "            ans = max(ans, prefix_sum[i] - min_prefix_sum)\n",
    "            min_prefix_sum = min(min_prefix_sum, prefix_sum[i])\n",
    "\n",
    "        return ans "
   ]
  },
  {
   "cell_type": "code",
   "execution_count": null,
   "id": "38870bc4-4e40-4966-9eb7-b9a4de1066b7",
   "metadata": {},
   "outputs": [],
   "source": [
    " def productExceptSelf(self, nums: List[int]) -> List[int]:\n",
    "        left = [1 for _ in range(len(nums))]\n",
    "        right = [1 for _ in range(len(nums))]\n",
    "        count = 1\n",
    "        for i in range(1 , len(nums)):\n",
    "            count = count * nums[i-1]\n",
    "            left[i] = count \n",
    "        count = 1\n",
    "        for j in range(len(nums)-2, -1 , -1):\n",
    "            count = count*nums[j+1]\n",
    "            right[j] = count\n",
    "        for i in range(len(nums)):\n",
    "            left[i] = left[i]*right[i]\n",
    "        return left"
   ]
  },
  {
   "cell_type": "code",
   "execution_count": null,
   "id": "654ca60b-deac-444a-bc1d-05f648afe094",
   "metadata": {},
   "outputs": [],
   "source": [
    "def threeSum(self, nums: List[int]) -> List[List[int]]:\n",
    "    res = []\n",
    "    nums.sort()\n",
    "    for i in range(len(nums)-2):\n",
    "        if i > 0 and nums[i] == nums[i-1]:\n",
    "            continue\n",
    "        l, r = i+1, len(nums)-1\n",
    "        while l < r:\n",
    "            s = nums[i] + nums[l] + nums[r]\n",
    "            if s < 0:\n",
    "                l +=1 \n",
    "            elif s > 0:\n",
    "                r -= 1\n",
    "            else:\n",
    "                res.append((nums[i], nums[l], nums[r]))\n",
    "                while l < r and nums[l] == nums[l+1]:\n",
    "                    l += 1\n",
    "                while l < r and nums[r] == nums[r-1]:\n",
    "                    r -= 1\n",
    "                l += 1; r -= 1\n",
    "    return res"
   ]
  },
  {
   "cell_type": "code",
   "execution_count": null,
   "id": "a8c8d3aa-7dc7-4c2e-9448-d9322e2e3d65",
   "metadata": {},
   "outputs": [],
   "source": [
    "# Merge Intervals\n",
    "def merge(self, intervals: List[List[int]]) -> List[List[int]]:\n",
    "        intervals = sorted(intervals, key=lambda x: (x[0], x[1]))\n",
    "        cur_interval = intervals[0]\n",
    "        i = 1\n",
    "        ans = []\n",
    "        while i < len(intervals):\n",
    "            c_s, c_e = cur_interval[:]\n",
    "            n_s, n_e = intervals[i]\n",
    "            if c_s <= n_e and c_e >= n_s:\n",
    "                cur_interval = [min(c_s, n_s), max(c_e, n_e)]\n",
    "                i+=1\n",
    "            else:\n",
    "                # add the current interval to ans\n",
    "                ans.append([c_s, c_e])\n",
    "                cur_interval = intervals[i]\n",
    "                i+=1\n",
    "        # add cur_interval to list \n",
    "        return ans + [cur_interval]"
   ]
  },
  {
   "cell_type": "code",
   "execution_count": null,
   "id": "b5e9d977-a628-4756-a17a-6b0e26bd4c0c",
   "metadata": {},
   "outputs": [],
   "source": [
    "def groupAnagrams(self, strs: List[str]) -> List[List[str]]:\n",
    "    result = defaultdict(list)\n",
    "    for s in strs:\n",
    "        count = [0]*26\n",
    "        for char in s:\n",
    "            count[ord(char)-97]+=1\n",
    "        result[tuple(count)].append(s)\n",
    "    return result.values()"
   ]
  },
  {
   "cell_type": "markdown",
   "id": "1a8f7956-e0f5-432f-8860-96e44e5888e5",
   "metadata": {},
   "source": [
    "# Data Structures"
   ]
  },
  {
   "cell_type": "code",
   "execution_count": 5,
   "id": "a5fe4186-fc7c-4ecd-aaa8-93fbef86c2a6",
   "metadata": {},
   "outputs": [],
   "source": [
    "def reverseList(self, head: Optional[ListNode]) -> Optional[ListNode]:\n",
    "        curr = head\n",
    "        pre = None\n",
    "        nxt = None\n",
    "        while(curr):\n",
    "            nxt = curr.next # hold the next address of curr\n",
    "            curr.next = pre # connect current to pre \" <- \" (reverse node)\n",
    "            pre = curr # move previous\n",
    "            curr = nxt # move curr \n",
    "            \n",
    "        return pre"
   ]
  },
  {
   "cell_type": "code",
   "execution_count": null,
   "id": "d6f486db-2c30-452b-b0cc-54b96feeb059",
   "metadata": {},
   "outputs": [],
   "source": [
    "def hasCycle(self, head: Optional[ListNode]) -> bool:\n",
    "           # O(n)\n",
    "            if head == None or head.next == None:\n",
    "                return False\n",
    "            fast = head\n",
    "            slow = head \n",
    "            while fast.next != None and fast.next.next != None:\n",
    "                fast = fast.next.next\n",
    "                slow = slow.next\n",
    "                if fast == slow:\n",
    "                    return True \n",
    "            return False"
   ]
  },
  {
   "cell_type": "code",
   "execution_count": null,
   "id": "cd05f423-d877-4c95-877b-3d32fc9261c7",
   "metadata": {},
   "outputs": [],
   "source": [
    "def maxArea(self, height: List[int]) -> int: #Most water\n",
    "        # Time-O(n) Space-O(1)\n",
    "        answer = 0\n",
    "        l, r = 0, len(height) - 1\n",
    "        \n",
    "        while l < r:\n",
    "            answer = max(answer, (r - l) * min(height[l], height[r]))\n",
    "                \n",
    "            if height[l] < height[r]:\n",
    "                l += 1\n",
    "            else:\n",
    "                r -= 1\n",
    "        \n",
    "        return answer"
   ]
  },
  {
   "cell_type": "code",
   "execution_count": null,
   "id": "2c4c78e9-393c-4b68-8604-95cec72200b2",
   "metadata": {},
   "outputs": [],
   "source": [
    "def findMin(self, nums: List[int]) -> int:\n",
    "        # Binary Search\n",
    "        isRotated = False\n",
    "        left, right = 0, len(nums) - 1\n",
    "        if nums[left] > nums[right]:\n",
    "            isRotated = True\n",
    "            \n",
    "        # base case\n",
    "        if not isRotated:\n",
    "            return nums[0]\n",
    "            \n",
    "        while left <= right:\n",
    "            mid = (left + right) // 2\n",
    "            \n",
    "            # if the middle element is greater than the rightmost element \n",
    "            # then we don't need to check any of the elements to the left as its still rotated\n",
    "            if nums[mid] > nums[right]:\n",
    "                left = mid + 1\n",
    "            else:\n",
    "                # if the element right before the mid is greater than the middle then the middle is smallest element\n",
    "                if nums[mid - 1] > nums[mid]:\n",
    "                    return nums[mid]\n",
    "                \n",
    "                # we don't need to check the elements on the right so shorten the window\n",
    "                right = mid - 1\n",
    "        \n",
    "        return nums[left]"
   ]
  },
  {
   "cell_type": "code",
   "execution_count": null,
   "id": "bdafa138-c02a-442c-b820-ee2d35ff49c9",
   "metadata": {},
   "outputs": [],
   "source": [
    "# Longest Repeating Character Replacement\n",
    "## Sliding Window\n",
    "def characterReplacement(self, s: str, k: int) -> int:\n",
    "        s_counter = collections.defaultdict(int)\n",
    "        max_count = 0\n",
    "        longest_substring_length = 0\n",
    "        left, right = 0, 0\n",
    "        while right < len(s):\n",
    "            s_counter[s[right]] += 1\n",
    "            max_count = max(max_count, s_counter[s[right]])\n",
    "            window_length = right - left + 1\n",
    "            # * Difference of window length and max count\n",
    "            # * should be less than or equal to k\n",
    "            # * (window_length - max_count <= k)\n",
    "            if window_length - max_count <= k:\n",
    "                longest_substring_length = max(\n",
    "                    longest_substring_length, window_length)\n",
    "                right += 1\n",
    "\n",
    "            else:\n",
    "                s_counter[s[right]] -= 1\n",
    "                s_counter[s[left]] -= 1\n",
    "                left += 1\n",
    "\n",
    "        return longest_substring_length"
   ]
  },
  {
   "cell_type": "code",
   "execution_count": null,
   "id": "137f450d-97ef-45c3-a438-aaf9408791e3",
   "metadata": {},
   "outputs": [],
   "source": [
    "def lengthOfLongestSubstring(self, s: str) -> int:\n",
    "    # Method 1: Naive Inefficient Approach\n",
    "    l = 0\n",
    "    r = 0\n",
    "    ans = 0\n",
    "    maxans = 0\n",
    "    count = []\n",
    "    while r<=len(s)-1:\n",
    "        if s[r] not in count:\n",
    "            count.append(s[r])\n",
    "            ans += 1\n",
    "            r += 1\n",
    "        else:\n",
    "            count.clear()\n",
    "            ans = 0\n",
    "            l += 1\n",
    "            r = l\n",
    "        maxans = max(maxans,ans)\n",
    "    return maxans"
   ]
  },
  {
   "cell_type": "code",
   "execution_count": null,
   "id": "925d68da-ca5d-4c36-baac-9db9673ba3a1",
   "metadata": {},
   "outputs": [],
   "source": [
    "# Island Finding\n",
    "def isvalid(self,grid, x,y,visited):\n",
    "        row = len(grid)\n",
    "        col = len(grid[0])\n",
    "        if x<0 or y< 0 or x>=row or y>= col or (x,y) in visited or grid[x][y] == '0':\n",
    "            return False\n",
    "        return True\n",
    "def numIslands(self, grid):\n",
    "    ## BFS solution\n",
    "    row = len(grid)\n",
    "    col = len(grid[0])\n",
    "    visited = set()\n",
    "    def bfs(x,y, grid, visited):\n",
    "        queue = deque()\n",
    "        visited.add((x,y))\n",
    "        queue.append((x,y))\n",
    "        count = 0\n",
    "        while queue:\n",
    "            x,y = queue.popleft()\n",
    "            for j,k in [[1,0],[-1,0],[0,1],[0,-1]]:\n",
    "                if self.isvalid(grid, x+j,y+k, visited):\n",
    "                    queue.append((x+j,y+k))\n",
    "                    visited.add((x+j,y+k))\n",
    "                    count+=1\n",
    "        return count+1\n",
    "    ans = []\n",
    "    for i in range(row):\n",
    "        for j in range(col):\n",
    "            if grid[i][j]  == '1' and (i,j) not in visited:\n",
    "                ans.append(bfs(i,j, grid, visited))\n",
    "    return len(ans)"
   ]
  },
  {
   "cell_type": "code",
   "execution_count": null,
   "id": "ee347a09-0a56-4f46-b480-996e04834274",
   "metadata": {},
   "outputs": [],
   "source": [
    "def removeNthFromEnd(self, head: Optional[ListNode], n: int) -> Optional[ListNode]:\n",
    "        \n",
    "        array = []\n",
    "        root = head\n",
    "        length = 0\n",
    "        while root:\n",
    "            array.append(root)\n",
    "            root = root.next\n",
    "            length += 1\n",
    "        \n",
    "        if len(array) == n:\n",
    "            return None if not head or not head.next else head.next\n",
    "        \n",
    "        array[length - n - 1].next = array[length - n + 1] if length - n + 1 < length else None\n",
    "        \n",
    "        return head"
   ]
  },
  {
   "cell_type": "code",
   "execution_count": null,
   "id": "c54ecc63-f28b-4142-ac11-c172f00b51e7",
   "metadata": {},
   "outputs": [],
   "source": [
    "# Palindromic Substrings\n",
    "def countSubstrings(self, s: str) -> int:\n",
    "    res = len(s)\n",
    "    for l in range(len(s)-1):\n",
    "        r = l\n",
    "        while r < len(s)-1 and s[r+1] == s[l]:\n",
    "            res += 1\n",
    "            r += 1\n",
    "        while r < len(s)-1 and l > 0 and s[l-1] == s[r+1]:\n",
    "            res += 1\n",
    "            r += 1\n",
    "            l -= 1"
   ]
  },
  {
   "cell_type": "code",
   "execution_count": null,
   "id": "c95c55d4-c074-4c7b-8553-92d689a1aed8",
   "metadata": {},
   "outputs": [],
   "source": [
    "# Pacific Ocean\n",
    "def pacificAtlantic(self, heights: List[List[int]]) -> List[List[int]]:\n",
    "\n",
    "    ROWS, COLS = len(heights),len(heights[0])\n",
    "\n",
    "    #get a list of islans accesible from pacific\n",
    "    #and get a list accessible from the atlantic\n",
    "    pac,atl = set(),set()\n",
    "\n",
    "    def dfs(r,c,visit,prevHeight):\n",
    "        #if out of bounds or not within condition return\n",
    "        if r<0 or c<0 or r==ROWS or c==COLS or (r,c) in visit or heights[r][c] < prevHeight:\n",
    "            return\n",
    "\n",
    "        #else add to set and check surroundings\n",
    "\n",
    "        visit.add((r,c))\n",
    "\n",
    "        dfs(r-1,c,visit,heights[r][c])\n",
    "        dfs(r+1,c,visit,heights[r][c])\n",
    "        dfs(r,c-1,visit,heights[r][c])\n",
    "        dfs(r,c+1,visit,heights[r][c])\n",
    "\n",
    "\n",
    "    for i in range(ROWS):\n",
    "        #do dfs on first col\n",
    "        dfs(i,0,pac,heights[i][0])\n",
    "        #do dfs on last col\n",
    "        dfs(i,COLS-1,atl,heights[i][COLS-1])\n",
    "\n",
    "\n",
    "    for i in range(COLS):\n",
    "        #do dfs on first row\n",
    "        dfs(0,i,pac,heights[0][i] )\n",
    "        #do dfs on last row\n",
    "        dfs(ROWS-1,i,atl,heights[ROWS-1][i])\n",
    "\n",
    "    res=[]\n",
    "    for i in  ((pac)):\n",
    "        for j in ((atl)):\n",
    "\n",
    "            if i == j and i not in res and j not in res:\n",
    "                res.append(j)\n",
    "\n",
    "    return res"
   ]
  },
  {
   "cell_type": "markdown",
   "id": "f6f20928-6e15-4397-a0b4-a3f8e440089c",
   "metadata": {},
   "source": [
    "# Non-Linear Data Structures"
   ]
  },
  {
   "cell_type": "code",
   "execution_count": null,
   "id": "adda5b63-bf80-4e95-9e8f-4466ba7b9532",
   "metadata": {},
   "outputs": [],
   "source": [
    "# Invert Binary Tree\n",
    "def invertTree(self, root: Optional[TreeNode]) -> Optional[TreeNode]:\n",
    "    # Time and space O(n)\n",
    "    if not root: \n",
    "        return \n",
    "    root.left, root.right = root.right, root.left\n",
    "\n",
    "    self.invertTree(root.left)\n",
    "    self.invertTree(root.right)\n",
    "    return root"
   ]
  },
  {
   "cell_type": "code",
   "execution_count": null,
   "id": "7fcf4efc-7e23-401b-a60a-0fad772647a3",
   "metadata": {},
   "outputs": [],
   "source": [
    "# Validated Binary Search Tree\n",
    "def isValidBST(self, root: Optional[TreeNode]) -> bool:\n",
    "        # parent has the max possible value, when passing left\n",
    "        #                min when passing right\n",
    "        \n",
    "        def dfsValidate(root, minVal, maxVal) -> bool:\n",
    "            if root == None:\n",
    "                return True\n",
    "            \n",
    "            if root.val >= maxVal or root.val <= minVal:\n",
    "                return False\n",
    "            \n",
    "            return dfsValidate(root.left, minVal, root.val) and  dfsValidate(root.right, root.val, maxVal)\n",
    "\n",
    "            \n",
    "        return dfsValidate(root, -1*sys.maxsize, sys.maxsize)"
   ]
  },
  {
   "cell_type": "code",
   "execution_count": null,
   "id": "3c81c6fe-46f6-4e4f-98af-05f4672b0875",
   "metadata": {},
   "outputs": [],
   "source": [
    "def eraseOverlapIntervals(self, intervals: List[List[int]]) -> int:\n",
    "    st = []\n",
    "    intervals.sort(key= lambda x:x[0])\n",
    "\n",
    "    ans = 0\n",
    "    for inte in intervals:\n",
    "        if not st or inte[0] >= st[-1][1]:\n",
    "            st.append(inte)\n",
    "            continue\n",
    "        if inte[0] >= st[-1][0] and inte[1] <= st[-1][1]:\n",
    "            st.pop()\n",
    "            st.append(inte)\n",
    "        ans += 1\n",
    "\n",
    "    return ans"
   ]
  },
  {
   "cell_type": "code",
   "execution_count": null,
   "id": "bb74d379-b8d6-482d-8da1-4fd1211ff9c8",
   "metadata": {},
   "outputs": [],
   "source": [
    "def buildTree(self, inorder, postorder):\n",
    "\tdict_inorder = {}\n",
    "\tfor idx, val in enumerate(inorder):\n",
    "\t\tdict_inorder[val] = idx\n",
    "\tself.post_root_idx = -1\n",
    "\n",
    "\tdef build(lo, hi):\n",
    "\t\tif lo > hi: return None\n",
    "\t\troot = TreeNode(postorder[self.post_root_idx])\n",
    "\t\tself.post_root_idx -= 1\n",
    "\t\tin_root_idx = dict_inorder[root.val]\n",
    "\t\troot.right = build(in_root_idx+1, hi)\n",
    "\t\troot.left = build(lo, in_root_idx-1)\n",
    "\t\treturn root\n",
    "\n",
    "\treturn build(0, len(inorder)-1)"
   ]
  },
  {
   "cell_type": "code",
   "execution_count": null,
   "id": "18f07d91-9467-4f62-97c5-f4010365e796",
   "metadata": {},
   "outputs": [],
   "source": [
    "def topKFrequent(self, nums, k):\n",
    "    # O(n) Time Complexity\n",
    "    count = {}\n",
    "    freq = [[] for i in range(len(nums) + 1) ]\n",
    "\n",
    "    for n in nums:\n",
    "        if n not in count:\n",
    "            count[n] = 1\n",
    "        else:\n",
    "            count[n] += 1\n",
    "\n",
    "    for n in count:\n",
    "        freq[count[n]].append(n)\n",
    "\n",
    "\n",
    "\n",
    "    res = []\n",
    "\n",
    "    for i in range(len(freq) - 1, -1, -1):\n",
    "        for n in freq[i]:\n",
    "            res.append(n)\n",
    "            if len(res) == k:\n",
    "                return res"
   ]
  },
  {
   "cell_type": "code",
   "execution_count": null,
   "id": "2ac67e00-6174-4d0d-a7cb-2000e814038b",
   "metadata": {},
   "outputs": [],
   "source": [
    "def cloneGraph(self, node: 'Node') -> 'Node':\n",
    "\n",
    "        if not node: return None \n",
    "        \n",
    "        val_to_node = {} \n",
    "        copy = Node(node.val)\n",
    "        val_to_node[copy.val] = copy\n",
    "        dum = copy\n",
    "        \n",
    "        queue = [(None,node,copy)]\n",
    "        visited = set() \n",
    "        \n",
    "        while queue:\n",
    "            prev,top,copy = queue.pop(0) \n",
    "            \n",
    "            if (prev,top) in visited or (top,prev) in visited: continue \n",
    "            visited.add((prev,top))\n",
    "            visited.add((top,prev)) \n",
    "            \n",
    "            if prev and val_to_node[prev.val] not in copy.neighbors: \n",
    "                copy.neighbors.append(val_to_node[prev.val])\n",
    "                val_to_node[prev.val].neighbors.append(copy)\n",
    "                \n",
    "            if prev and copy not in val_to_node[prev.val].neighbors:\n",
    "                copy.neighbors.append(val_to_node[prev.val])\n",
    "                val_to_node[prev.val].neighbors.append(copy)\n",
    "                \n",
    "            for n in top.neighbors:\n",
    "                if n.val not in val_to_node: \n",
    "                    nxt = Node(n.val)\n",
    "                    val_to_node[n.val] = nxt \n",
    "                    copy.neighbors.append(nxt) \n",
    "                    nxt.neighbors.append(copy)\n",
    "                    queue.append((top,n,nxt))\n",
    "                else:\n",
    "                    queue.append((top,n,val_to_node[n.val]))\n",
    "    \n",
    "        return dum"
   ]
  },
  {
   "cell_type": "code",
   "execution_count": null,
   "id": "16de95e9-decd-4f92-84fc-652c9be643d4",
   "metadata": {},
   "outputs": [],
   "source": [
    "def canFinish(self, numCourses: int, prerequisites: List[List[int]]) -> bool:\n",
    "\tpre_dict = {}  # store the number of prerequisite course\n",
    "\tedge_dict = {}  # store the edge\n",
    "\tfor i in range(numCourses):\n",
    "\t\tpre_dict[i] = 0\n",
    "\t\tedge_dict[i] = []\n",
    "\tfor course, pre_course in prerequisites:\n",
    "\t\tpre_dict[course] += 1\n",
    "\t\tedge_dict[pre_course] += [course]\n",
    "\n",
    "\tmy_que = deque([])\n",
    "\tfor i,v in pre_dict.items():\n",
    "\t\tif v == 0:\n",
    "\t\t\tmy_que.append(i)\n",
    "\twhile my_que:\n",
    "\t\tpre_course = my_que.popleft()\n",
    "\t\tfor course in edge_dict[pre_course]:\n",
    "\t\t\tpre_dict[course] -= 1\n",
    "\t\t\tif pre_dict[course] == 0 and course not in my_que:\n",
    "\t\t\t\tmy_que.append(course)\n",
    "\treturn not any(pre_dict.values())"
   ]
  },
  {
   "cell_type": "markdown",
   "id": "8c84c26c-6bbc-40f9-886e-5332bec54bd9",
   "metadata": {},
   "source": [
    "# More Data Structures"
   ]
  },
  {
   "cell_type": "code",
   "execution_count": null,
   "id": "ee66066c-ae47-44e7-b480-313f4999e6db",
   "metadata": {},
   "outputs": [],
   "source": [
    "# SubTree\n",
    "def isSubtree(self, root, subRoot) :\n",
    "        queue = [root]\n",
    "        while len(queue) > 0:\n",
    "            curr = queue.pop(0)\n",
    "            if curr.val == subRoot.val :\n",
    "                if self.compare(curr,subRoot):\n",
    "                    return True\n",
    "            if curr.right:\n",
    "                queue.append(curr.right)\n",
    "            if curr.left:\n",
    "                queue.append(curr.left)\n",
    "        return False\n",
    "    \n",
    "    def compare(self,curr,subRoot):\n",
    "        if curr is None and subRoot is None:\n",
    "            return True\n",
    "        elif not curr is None and subRoot is None :\n",
    "            return False\n",
    "        elif curr is None and not subRoot is None :\n",
    "            return False\n",
    "        elif curr.val == subRoot.val :\n",
    "            r_flag = self.compare(curr.right,subRoot.right)\n",
    "            l_flag = self.compare(curr.left,subRoot.left)\n",
    "            if r_flag and l_flag:\n",
    "                return True"
   ]
  },
  {
   "cell_type": "code",
   "execution_count": null,
   "id": "eb2b090c-7fdb-4297-a02e-e40ce1427911",
   "metadata": {},
   "outputs": [],
   "source": [
    "# Lowest Common Ancestor\n",
    "def lowestCommonAncestor(self, root: 'TreeNode', p: 'TreeNode', q: 'TreeNode') -> 'TreeNode':\n",
    "    min_val, max_val = min(p.val,q.val), max(p.val,q.val)\n",
    "\n",
    "    while True:\n",
    "        if min_val<= root.val <= max_val:\n",
    "            return root\n",
    "        elif max_val<root.val:\n",
    "            root = root.left\n",
    "        else:\n",
    "            root = root.right"
   ]
  },
  {
   "cell_type": "code",
   "execution_count": 7,
   "id": "04031357-8f6a-4905-8b1f-2c8d61ba20f2",
   "metadata": {},
   "outputs": [],
   "source": [
    "# Implement Prefix Tree\n",
    "def insert(self, word: str) -> None:\n",
    "        cur = self.root\n",
    "        for char in word:\n",
    "            if char not in cur:\n",
    "                cur[char] = {}\n",
    "            cur = cur[char]\n",
    "        cur['*'] = {}\n",
    "        \n",
    "    def search(self, word: str) -> bool:\n",
    "        cur = self.root\n",
    "        for char in word:\n",
    "            if char in cur:\n",
    "                cur = cur[char]\n",
    "            else:\n",
    "                return False\n",
    "        return '*' in cur\n",
    "\n",
    "    def startsWith(self, prefix: str) -> bool:\n",
    "        cur = self.root\n",
    "        for char in prefix:\n",
    "            if char in cur:\n",
    "                cur = cur[char]\n",
    "            else:\n",
    "                return False\n",
    "        return True"
   ]
  },
  {
   "cell_type": "code",
   "execution_count": null,
   "id": "f269e302-6538-40aa-8e00-a2f548846a67",
   "metadata": {},
   "outputs": [],
   "source": [
    "# Add Search Word\n",
    "def addWord(self, word):\n",
    "    word_length=len(word)\n",
    "    if word_length in self.word_storage:\n",
    "        self.word_storage[word_length].add(word)\n",
    "    else:\n",
    "        self.word_storage[word_length]={word}\n",
    "    \"\"\"\n",
    "    :type word: str\n",
    "    :rtype: None\n",
    "    \"\"\"\n",
    "def search(self, word):\n",
    "    if \".\" in word and len(word) in self.word_storage:\n",
    "        for potential_match in self.word_storage[len(word)]:\n",
    "            is_match=True\n",
    "            for iter in range(len(word)):\n",
    "                if word[iter]==\".\":\n",
    "                    continue\n",
    "                if word[iter]!=potential_match[iter]:\n",
    "                    is_match=False\n",
    "                    break\n",
    "            if is_match==True:\n",
    "                return True\n",
    "    elif len(word) in self.word_storage:\n",
    "        return word in self.word_storage[len(word)]\n",
    "    else:\n",
    "        return False\n",
    "    \"\"\"\n",
    "    :type word: str\n",
    "    :rtype: bool\n",
    "    \"\"\""
   ]
  },
  {
   "cell_type": "code",
   "execution_count": null,
   "id": "9a5f713e-8774-4731-b423-62768b65110e",
   "metadata": {},
   "outputs": [],
   "source": [
    "# Kth Smallest\n",
    "def kthSmallest(self, root: Optional[TreeNode], k: int) -> int:\n",
    "        stack = []\n",
    "        cur = root\n",
    "        \n",
    "        while stack or cur:\n",
    "            print(k, [s.val for s in stack])\n",
    "            if cur:\n",
    "                stack.append(cur)\n",
    "                cur = cur.left\n",
    "            else:\n",
    "                top = stack.pop()\n",
    "                k -= 1\n",
    "                if not k:\n",
    "                    return top.val\n",
    "                cur = top.right\n",
    "        \n",
    "        return 0"
   ]
  },
  {
   "cell_type": "code",
   "execution_count": null,
   "id": "d399f1ff-6853-4881-9b48-d043ce1534e4",
   "metadata": {},
   "outputs": [],
   "source": [
    "def mergeKLists(self, lists: List[Optional[ListNode]]) -> Optional[ListNode]:\n",
    "        def mergeLists(l1, l2):\n",
    "            cur = ListNode()\n",
    "            prev = head = ListNode(next=cur)\n",
    "            while l1 and l2:\n",
    "                cur.val = min(l1.val, l2.val)\n",
    "                if l1.val == cur.val:\n",
    "                    l1 = l1.next\n",
    "                else:\n",
    "                    l2 = l2.next\n",
    "                cur.next = ListNode()\n",
    "                prev, cur = prev.next, cur.next\n",
    "            prev.next = l1 or l2\n",
    "            return head.next\n",
    "        \n",
    "        dq = deque(lists)\n",
    "        while len(dq) > 1:\n",
    "            dq.appendleft(mergeLists(dq.pop(), dq.pop()))\n",
    "            \n",
    "        return None if not dq else dq[0]"
   ]
  },
  {
   "cell_type": "code",
   "execution_count": null,
   "id": "f39bd190-6ba6-4630-a9e4-cfd262dac32c",
   "metadata": {},
   "outputs": [],
   "source": [
    "# Calculate median from stream\n",
    "def addNum(self, num: int) -> None:\n",
    "        self.arr.append(num)\n",
    "        # print(self.arr)\n",
    "\n",
    "    def findMedian(self) -> float:\n",
    "        self.arr = sorted(self.arr)\n",
    "        length =  len(self.arr)\n",
    "        if length ==  0 : \n",
    "            return None\n",
    "        if length % 2 == 0:\n",
    "            return (self.arr[int(length/2-1)] + self.arr[int(length/2)])/2.\n",
    "        else: \n",
    "            return self.arr[int(length/2)]\n",
    "        \n",
    "# OR\n",
    "\n",
    "def addNum(self, num: int) -> None:\n",
    "    if not self.lower:\n",
    "        heapq.heappush(self.lower, -1 * num)\n",
    "        self.lower_count += 1       \n",
    "    elif num <= (-1 * self.lower[0]):\n",
    "        heapq.heappush(self.lower, -1 * num)\n",
    "        self.lower_count += 1\n",
    "        self.balance()\n",
    "    else:\n",
    "        heapq.heappush(self.upper, num)\n",
    "        self.upper_count += 1\n",
    "        self.balance()\n",
    "\n",
    "def balance(self) -> None:\n",
    "    while self.lower_count - self.upper_count > 1:\n",
    "        heapq.heappush(self.upper, -1 * heapq.heappop(self.lower))\n",
    "        self.lower_count -= 1\n",
    "        self.upper_count += 1\n",
    "    while self.lower_count - self.upper_count  < -1:\n",
    "        heapq.heappush(self.lower, -1 * heapq.heappop(self.upper))\n",
    "        self.lower_count += 1\n",
    "        self.upper_count -= 1\n",
    "\n",
    "def findMedian(self) -> float:\n",
    "    if self.lower_count == self.upper_count:\n",
    "        return ((self.lower[0] * -1) + self.upper[0]) / 2\n",
    "    elif self.lower_count > self.upper_count:\n",
    "        return self.lower[0] * -1\n",
    "    else:\n",
    "        return self.upper[0]"
   ]
  },
  {
   "cell_type": "code",
   "execution_count": null,
   "id": "f16fa79c-276f-4b19-b1fd-dec7b03c0225",
   "metadata": {},
   "outputs": [],
   "source": [
    "# Insert Interval\n",
    "\n",
    "def insert(self, intervals: List[List[int]], newInterval: List[int]) -> List[List[int]]:\n",
    "    # since the intervals are sorted by start and non overlapping, then the ends are sorted\n",
    "    # as well. I can do a bsearch for both given start and end.\n",
    "\n",
    "    # bsearch will find the idx to insert the new interval\n",
    "    # if start is within an interval, return the index of that interval\n",
    "    # if start is NOT within an interval, return the first index of interval with bigger start\n",
    "    # if end is within an interval, return the index of that interval\n",
    "    # if end is NOT within an interval, return the first index of interval with smaller end\n",
    "\n",
    "    # if there is no overlapping in the middle of intervals, the two bsearch call will return l > r\n",
    "    def bsearch(l, r, t, is_start):\n",
    "        l = 0\n",
    "        r = n - 1\n",
    "\n",
    "        while l <= r:\n",
    "            mid = (l + r) // 2\n",
    "\n",
    "            interval = intervals[mid]\n",
    "\n",
    "            if interval[0] <= t <= interval[1]:\n",
    "                return mid\n",
    "            elif interval[0] > t:\n",
    "                if (\n",
    "                    is_start and\n",
    "                    ((mid == 0) or intervals[mid - 1][1] < t)\n",
    "                ):\n",
    "                    # the first index of interval with bigger start\n",
    "                    return mid\n",
    "                else:\n",
    "                    r = mid - 1\n",
    "            elif interval[1] < t:\n",
    "                if (\n",
    "                    not is_start and\n",
    "                    ((mid == n - 1) or intervals[mid + 1][0] > t)\n",
    "                ):\n",
    "                    # the first index of interval with smaller end\n",
    "                    return mid\n",
    "                else:\n",
    "                    l = mid + 1\n",
    "\n",
    "    n = len(intervals)\n",
    "\n",
    "    l_idx = bsearch(0, n - 1, newInterval[0], True)\n",
    "    r_idx = bsearch(0, n - 1, newInterval[1], False)\n",
    "\n",
    "    # edge cases where the entire new interval is on left or right of the intervals\n",
    "    # or initial intervals is empty\n",
    "    if l_idx == None and r_idx == None:\n",
    "        return [newInterval]\n",
    "    elif l_idx == None:\n",
    "        return intervals + [newInterval]\n",
    "    elif r_idx == None:\n",
    "        return [newInterval] + intervals\n",
    "    elif l_idx <= r_idx:\n",
    "        return intervals[:l_idx] + [[min(newInterval[0], intervals[l_idx][0]), max(newInterval[1], intervals[r_idx][1])]] + intervals[r_idx + 1:]\n",
    "    else:\n",
    "        return intervals[:r_idx + 1] + [newInterval] + intervals[l_idx:]"
   ]
  },
  {
   "cell_type": "code",
   "execution_count": null,
   "id": "400c387e-984d-4aed-9538-c67219b142fb",
   "metadata": {},
   "outputs": [],
   "source": [
    "# Longest Consecutive Sequence\n",
    "def longestConsecutive(self, nums: List[int]) -> int:\n",
    "        ilen = len(nums)\n",
    "        if ilen < 1:\n",
    "            return 0\n",
    "        elif ilen == 1:\n",
    "            return 1\n",
    "    \n",
    "        hash_map = dict()\n",
    "        longest = 0\n",
    "        cache = dict()\n",
    "        \n",
    "        for num in nums:\n",
    "            hash_map[num] = num + 1\n",
    "            \n",
    "        for key in hash_map.keys():\n",
    "            chain = 0\n",
    "            temp = key\n",
    "            while temp in hash_map:\n",
    "                chain += 1\n",
    "                temp = hash_map[temp]\n",
    "                \n",
    "                if temp in cache:\n",
    "                    chain += cache[temp]\n",
    "                    break\n",
    "                    \n",
    "            cache[key] = chain\n",
    "            if chain > longest:\n",
    "                longest = chain\n",
    "            \n",
    "        return longest"
   ]
  },
  {
   "cell_type": "markdown",
   "id": "b79b2af4-ccd8-47ec-8781-fbb6e9b0916b",
   "metadata": {},
   "source": [
    "# Dynamic Programming"
   ]
  },
  {
   "cell_type": "code",
   "execution_count": null,
   "id": "79b73210-c842-4366-b3d8-da441c832f72",
   "metadata": {},
   "outputs": [],
   "source": [
    "# Climbing Stairs\n",
    "def climbStairs(self, n: int) -> int:\n",
    "        \n",
    "        if n in self.dc: \n",
    "            return self.dc[n]\n",
    "        \n",
    "        elif n > 2:           \n",
    "            value =  self.climbStairs(n - 1) + self.climbStairs(n - 2)\n",
    "            self.dc[n] = value\n",
    "            return value"
   ]
  },
  {
   "cell_type": "code",
   "execution_count": null,
   "id": "04129ede-9d28-4642-98f8-a033de300dee",
   "metadata": {},
   "outputs": [],
   "source": [
    "# Coin Change\n",
    "def coinChange(coins, amount):\n",
    "    dp=[amount+1]*(amount+1)\n",
    "    dp[0]=0\n",
    "    for i in range(1,amount+1):\n",
    "    for coin in coins:\n",
    "    if i-coin>=0:\n",
    "    dp[i]=min(dp[i],1+dp[i-coin])\n",
    "    return dp[amount] if dp[amount]!=amount+1 else -1"
   ]
  },
  {
   "cell_type": "code",
   "execution_count": null,
   "id": "cfd5948a-813d-4723-917c-2b4f51258138",
   "metadata": {},
   "outputs": [],
   "source": [
    "# Longest Increasing Subsequence\n",
    "def lengthOfLIS(self, nums: List[int]) -> int:\n",
    "        # Solution - maintaining sorted sequence \n",
    "        # Time - O(NlogN)\n",
    "        # Space - O(N)\n",
    "        \n",
    "        arr = []\n",
    "        for i in range(len(nums)):\n",
    "            if not arr:\n",
    "                arr.append(nums[i])\n",
    "            else:\n",
    "                if arr[-1] < nums[i]:\n",
    "                    arr.append(nums[i])\n",
    "                else:\n",
    "                    idx = bisect.bisect_left(arr, nums[i])\n",
    "                    arr[idx] = nums[i]\n",
    "        return len(arr)"
   ]
  },
  {
   "cell_type": "code",
   "execution_count": null,
   "id": "ad887b61-8d46-44b0-85a5-1f2a7653b923",
   "metadata": {},
   "outputs": [],
   "source": [
    "# Compbination Sum\n",
    "def combinationSum4(self, nums: List[int], target: int) -> int:\n",
    "    if not nums or target < 0:\n",
    "        return 0\n",
    "    nums = sorted(nums)\n",
    "    dp = [0] * (target + 1)\n",
    "    dp[0] = 1\n",
    "    for i in range(1, target + 1):\n",
    "        for num in nums:\n",
    "            if num <= i:\n",
    "                dp[i] = dp[i] + dp[i - num]\n",
    "            else:\n",
    "                break\n",
    "    return dp[target]"
   ]
  },
  {
   "cell_type": "code",
   "execution_count": null,
   "id": "9a8bb42a-7af8-4f0d-a57d-0419493d0fed",
   "metadata": {},
   "outputs": [],
   "source": [
    "# Robbing a house\n",
    "def rob(self, nums: List[int]) -> int:\n",
    "\n",
    "    n = len(nums)\n",
    "\n",
    "    if n == 1:return nums[0]\n",
    "\n",
    "    dp = [i for i in nums]\n",
    "    dp[0] = nums[0]\n",
    "    dp[1] = max(nums[1], nums[0])\n",
    "\n",
    "    for i in range(2, n):\n",
    "        dp[i] = max(nums[i]+dp[i-2], dp[i-1])\n",
    "    return dp[n-1]"
   ]
  },
  {
   "cell_type": "code",
   "execution_count": null,
   "id": "c2339d6d-c37e-407f-8bd1-13a0bcdf975b",
   "metadata": {},
   "outputs": [],
   "source": [
    "# Rob a Cycle:\n",
    "def rob(self, nums: List[int]) -> int:\n",
    "    if len(nums) == 1: return nums[0]\n",
    "    if len(nums) == 2: return max(nums[0], nums[1])\n",
    "    output = []\n",
    "\n",
    "    for i in range(2):\n",
    "        currentNums = nums[i:i+len(nums)-1]\n",
    "\n",
    "        cost = [0] * (len(currentNums))\n",
    "        cost[0] = currentNums[0]\n",
    "        cost[1] = currentNums[1]\n",
    "\n",
    "        for i in range(2, len(currentNums)):\n",
    "            cost[i] = max(cost[:i-1]) + currentNums[i]\n",
    "        output.append(max(cost))\n",
    "\n",
    "    return max(output)"
   ]
  },
  {
   "cell_type": "code",
   "execution_count": null,
   "id": "7e2cbfd7-694e-4c28-be4d-9582844b347a",
   "metadata": {},
   "outputs": [],
   "source": [
    "# Decode Ways\n",
    "def backtrack(curr):\n",
    "        if curr==len(s):\n",
    "            return 1\n",
    "        if s[curr]==\"0\":\n",
    "            return 0\n",
    "        if curr+1<len(s) and int(s[curr:curr+2])<=26:\n",
    "            print(int(s[curr+1:curr+2]))\n",
    "            return backtrack(curr+1)+backtrack(curr+2)\n",
    "        else:\n",
    "            return backtrack(curr+1)\n",
    "    return backtrack(0)"
   ]
  },
  {
   "cell_type": "code",
   "execution_count": null,
   "id": "b194c104-7ddf-41f9-ae14-3c293b37c86c",
   "metadata": {},
   "outputs": [],
   "source": [
    "# Number of Unique Paths\n",
    "# Number of unique paths equals to the number of combinations \"S choose Q\" where S is total number of moves\n",
    "def uniquePaths(self, m:int, n:int) -> int:\n",
    "        # S = m + n - 2 and Q is moves in one direction (say down), Q = m - 1\n",
    "        # So here we will calculate binomial coefficient \"(m + n - 2) choose (m - 1)\"\n",
    "        if m > n:\n",
    "            m, n = n, m\n",
    "        # Hee always n >= m\n",
    "        c = 1  # Result\n",
    "        u = n  # Numerator\n",
    "        v = 1  # Denominator\n",
    "        while v < m:\n",
    "            c = c * u // v\n",
    "            u += 1\n",
    "            v += 1\n",
    "        return c"
   ]
  },
  {
   "cell_type": "code",
   "execution_count": null,
   "id": "5d16673d-e859-4fba-9e98-b11742e7e515",
   "metadata": {},
   "outputs": [],
   "source": [
    "# Jump\n",
    "def canJump(self, nums: List[int]) -> bool:\n",
    "        n = len(nums)\n",
    "        dp = nums[:1] + [0] * n\n",
    "        for i in range(1, n):\n",
    "            dp[i] = max(dp[i-1]-1, nums[i])\n",
    "            if dp[i-1] == 0 or (dp[i] == 0 and i < n-1):\n",
    "                return False\n",
    "        return True"
   ]
  },
  {
   "cell_type": "code",
   "execution_count": null,
   "id": "80037fd9-1818-4e38-9b00-dcc3ecfe2680",
   "metadata": {},
   "outputs": [],
   "source": [
    "# Word Break\n",
    "def wordBreak(self, s: str, wordDict: List[str]) -> bool:\n",
    "        words = set(wordDict)\n",
    "        memo = {}\n",
    "        def dp(index):\n",
    "            if index == len(s):\n",
    "                return True\n",
    "            if index in memo:\n",
    "                return memo[index]\n",
    "            \n",
    "            string = \"\"\n",
    "            for i in range(index, len(s)):\n",
    "                string += s[i]\n",
    "                if string in words:\n",
    "                    if dp(i + 1):\n",
    "                        memo[index] = True\n",
    "                        return True\n",
    "            memo[index] = False\n",
    "            return False\n",
    "        \n",
    "        return dp(0)"
   ]
  },
  {
   "cell_type": "code",
   "execution_count": null,
   "id": "5c0aa38e-a4ca-4e39-a8fc-63eb0f1177a3",
   "metadata": {},
   "outputs": [],
   "source": []
  },
  {
   "cell_type": "code",
   "execution_count": 114,
   "id": "6ee78f61-a95f-4bd3-9e77-93b94377fbc5",
   "metadata": {},
   "outputs": [],
   "source": [
    "def fib(n):\n",
    " \n",
    " \n",
    "    # Base case\n",
    "    if (n <= 1):\n",
    "        return n\n",
    " \n",
    "    # recursive calls\n",
    "    return fib(n - 1) + fib(n - 2)"
   ]
  },
  {
   "cell_type": "code",
   "execution_count": 115,
   "id": "c3fb2268-818d-4180-811f-334981da4ce4",
   "metadata": {},
   "outputs": [
    {
     "name": "stdout",
     "output_type": "stream",
     "text": [
      "124 ms ± 1.97 ms per loop (mean ± std. dev. of 7 runs, 10 loops each)\n"
     ]
    }
   ],
   "source": [
    "%%timeit\n",
    "fib(30)"
   ]
  },
  {
   "cell_type": "code",
   "execution_count": 33,
   "id": "b7581697-1c7a-4d73-980d-08f1badcbe3d",
   "metadata": {},
   "outputs": [],
   "source": [
    "# Fibonacci\n",
    "# Fibonacci Series using Recursion\n",
    "def fibonacci(input_value):\n",
    "    if input_value == 1:\n",
    "        return 1\n",
    "    elif input_value == 2:\n",
    "        return 1\n",
    "    elif input_value > 2:\n",
    "        return fibonacci(input_value -1) + fibonacci(input_value -2)\n",
    "fibonacci_cache = {}\n",
    " \n",
    "# Fibonacci Series using memoized Recursion\n",
    "def fibonacci_memo(input_value):\n",
    "    if input_value in fibonacci_cache:\n",
    "        return fibonacci_cache[input_value]\n",
    "    if input_value == 1:\n",
    "            value = 1\n",
    "    elif input_value == 2:\n",
    "            value = 1\n",
    "    elif input_value > 2:           \n",
    "            value =  fibonacci_memo(input_value -1) + fibonacci_memo(input_value -2)\n",
    "    fibonacci_cache[input_value] = value\n",
    "    return value"
   ]
  },
  {
   "cell_type": "code",
   "execution_count": 35,
   "id": "e09a0cc7-c665-4703-b160-fb0ea5c179d0",
   "metadata": {},
   "outputs": [
    {
     "name": "stdout",
     "output_type": "stream",
     "text": [
      "47.5 ns ± 0.694 ns per loop (mean ± std. dev. of 7 runs, 10,000,000 loops each)\n"
     ]
    }
   ],
   "source": [
    "%%timeit\n",
    "fibonacci_memo(1000)"
   ]
  },
  {
   "cell_type": "code",
   "execution_count": 31,
   "id": "77ef8f0d-bbab-492c-bcf6-68b9a7aaa0e9",
   "metadata": {},
   "outputs": [
    {
     "data": {
      "text/plain": [
       "{0: 1,\n",
       " 1: 1,\n",
       " 2: 2,\n",
       " 3: 3,\n",
       " 4: 5,\n",
       " 5: 8,\n",
       " 6: 13,\n",
       " 7: 21,\n",
       " 8: 34,\n",
       " 9: 55,\n",
       " 10: 89,\n",
       " 11: 144,\n",
       " 12: 233,\n",
       " 13: 377,\n",
       " 14: 610,\n",
       " 15: 987,\n",
       " 16: 1597,\n",
       " 17: 2584,\n",
       " 18: 4181,\n",
       " 19: 6765,\n",
       " 20: 10946,\n",
       " 21: 17711,\n",
       " 22: 28657,\n",
       " 23: 46368,\n",
       " 24: 75025,\n",
       " 25: 121393,\n",
       " 26: 196418,\n",
       " 27: 317811,\n",
       " 28: 514229,\n",
       " 29: 832040,\n",
       " 30: 1346269}"
      ]
     },
     "execution_count": 31,
     "metadata": {},
     "output_type": "execute_result"
    }
   ],
   "source": [
    "term"
   ]
  },
  {
   "cell_type": "code",
   "execution_count": 36,
   "id": "eb654858-b1e3-4cd0-b225-3c297382d465",
   "metadata": {},
   "outputs": [],
   "source": [
    "a = [10,9,8,7,6,5,4,3,2,1]"
   ]
  },
  {
   "cell_type": "code",
   "execution_count": 37,
   "id": "2102f8ef-7bb6-49a7-8282-34dcef47f7c1",
   "metadata": {},
   "outputs": [],
   "source": [
    "b = [1,2,3,4,5,6,7,8,9,10]"
   ]
  },
  {
   "cell_type": "code",
   "execution_count": 38,
   "id": "73c0e63a-2eb5-4935-932e-3daf471018e9",
   "metadata": {},
   "outputs": [
    {
     "name": "stdout",
     "output_type": "stream",
     "text": [
      "87.7 ns ± 0.483 ns per loop (mean ± std. dev. of 7 runs, 10,000,000 loops each)\n"
     ]
    }
   ],
   "source": [
    "%%timeit\n",
    "sorted(a)"
   ]
  },
  {
   "cell_type": "code",
   "execution_count": 39,
   "id": "b5512cb1-c658-4028-9104-a195b0fa9390",
   "metadata": {},
   "outputs": [
    {
     "name": "stdout",
     "output_type": "stream",
     "text": [
      "84.5 ns ± 0.234 ns per loop (mean ± std. dev. of 7 runs, 10,000,000 loops each)\n"
     ]
    }
   ],
   "source": [
    "%%timeit\n",
    "sorted(b)"
   ]
  },
  {
   "cell_type": "code",
   "execution_count": 45,
   "id": "84283a8b-fe50-4092-b0d6-0f386217b06f",
   "metadata": {},
   "outputs": [],
   "source": [
    "import numpy as np\n",
    "a = np.arange(1000)\n",
    "np.random.shuffle(a)\n",
    "a = list(a)\n",
    "b = list(np.arange(1000))"
   ]
  },
  {
   "cell_type": "code",
   "execution_count": null,
   "id": "ed9f5334-57d5-4632-afbc-5d3e36e67049",
   "metadata": {},
   "outputs": [],
   "source": []
  },
  {
   "cell_type": "code",
   "execution_count": 47,
   "id": "b5e09cb5-c5c9-4f8a-95bd-0174ce088d73",
   "metadata": {},
   "outputs": [
    {
     "name": "stdout",
     "output_type": "stream",
     "text": [
      "94.6 µs ± 689 ns per loop (mean ± std. dev. of 7 runs, 10,000 loops each)\n"
     ]
    }
   ],
   "source": [
    "%%timeit\n",
    "sorted(a)"
   ]
  },
  {
   "cell_type": "code",
   "execution_count": 48,
   "id": "48181383-a4ca-4d4b-a632-fd128983d7bc",
   "metadata": {},
   "outputs": [
    {
     "name": "stdout",
     "output_type": "stream",
     "text": [
      "8.32 µs ± 272 ns per loop (mean ± std. dev. of 7 runs, 100,000 loops each)\n"
     ]
    }
   ],
   "source": [
    "%%timeit\n",
    "sorted(b)"
   ]
  },
  {
   "cell_type": "code",
   "execution_count": 49,
   "id": "42fd3771-5881-47a4-a178-210336dc86f3",
   "metadata": {},
   "outputs": [],
   "source": [
    "b[0], b[-1] = b[-1], b[0]"
   ]
  },
  {
   "cell_type": "code",
   "execution_count": 51,
   "id": "1a8bd1d6-a5e2-4036-bfd9-abe51cadcb4b",
   "metadata": {},
   "outputs": [
    {
     "name": "stdout",
     "output_type": "stream",
     "text": [
      "11.3 µs ± 22.9 ns per loop (mean ± std. dev. of 7 runs, 100,000 loops each)\n"
     ]
    }
   ],
   "source": [
    "%%timeit\n",
    "sorted(b)"
   ]
  },
  {
   "cell_type": "code",
   "execution_count": 65,
   "id": "c6db60bd-ac93-4d28-bcb9-b65a74542a98",
   "metadata": {},
   "outputs": [],
   "source": [
    "s = list('poq123jklmnwe')"
   ]
  },
  {
   "cell_type": "code",
   "execution_count": 66,
   "id": "d102586c-e222-4878-b46d-217dc38ec3ee",
   "metadata": {},
   "outputs": [
    {
     "name": "stdout",
     "output_type": "stream",
     "text": [
      "18.5 ns ± 0.28 ns per loop (mean ± std. dev. of 7 runs, 100,000,000 loops each)\n"
     ]
    }
   ],
   "source": [
    "%%timeit\n",
    "'o' in s"
   ]
  },
  {
   "cell_type": "code",
   "execution_count": 67,
   "id": "8377f490-0adb-46be-b647-d53119d71cca",
   "metadata": {},
   "outputs": [],
   "source": [
    "ss = set(s)"
   ]
  },
  {
   "cell_type": "code",
   "execution_count": 69,
   "id": "1d5adb5f-6c55-42b0-a658-c5710084c2db",
   "metadata": {},
   "outputs": [
    {
     "name": "stdout",
     "output_type": "stream",
     "text": [
      "146 ns ± 1.49 ns per loop (mean ± std. dev. of 7 runs, 10,000,000 loops each)\n"
     ]
    }
   ],
   "source": [
    "%%timeit\n",
    "ss = set(s)\n",
    "'o' in ss"
   ]
  },
  {
   "cell_type": "code",
   "execution_count": 60,
   "id": "4c43fa38-57b1-492c-8754-1308b3b019c0",
   "metadata": {},
   "outputs": [
    {
     "data": {
      "text/plain": [
       "set"
      ]
     },
     "execution_count": 60,
     "metadata": {},
     "output_type": "execute_result"
    }
   ],
   "source": [
    "type(ss)"
   ]
  },
  {
   "cell_type": "code",
   "execution_count": 70,
   "id": "993c98a1-4149-479a-9c2e-5cb9de943ee1",
   "metadata": {},
   "outputs": [
    {
     "ename": "SyntaxError",
     "evalue": "'return' outside function (471642747.py, line 17)",
     "output_type": "error",
     "traceback": [
      "\u001b[0;36m  Input \u001b[0;32mIn [70]\u001b[0;36m\u001b[0m\n\u001b[0;31m    return state\u001b[0m\n\u001b[0m    ^\u001b[0m\n\u001b[0;31mSyntaxError\u001b[0m\u001b[0;31m:\u001b[0m 'return' outside function\n"
     ]
    }
   ],
   "source": [
    "s = [3, 5, 8, 10, -9, -11, 16, 2]\n",
    "pos = sorted([x for x in s if x>0])\n",
    "neg = sorted([x for x in s if x<0])\n",
    "zero = neg = [x for x in s if x==0]\n",
    "p_set, neg_set = set(pos), set(neg)\n",
    "# if len(zero)>=3: \n",
    "#     print(True)\n",
    "state = False\n",
    "for i in range(len(pos)):\n",
    "    if (not state) & (i == len(pos-1)):\n",
    "        break     \n",
    "    for j in range(len(neg)): \n",
    "        summd = pos[i] + neg[j]\n",
    "        if summd > 0: \n",
    "            if -summed in neg_set: \n",
    "                state = True\n",
    "                return state\n",
    "        elif summd < 0: \n",
    "            if abs(summed) in pos_set:\n",
    "                state = True\n",
    "                return state\n",
    "    return state\n",
    "        \n",
    "                \n"
   ]
  },
  {
   "cell_type": "code",
   "execution_count": 116,
   "id": "d486f5ee-aea5-44da-8ca2-3d486c953b48",
   "metadata": {},
   "outputs": [],
   "source": [
    "def sum3(s):\n",
    "    pos = sorted([x for x in s if x>0])\n",
    "    neg = sorted([x for x in s if x<0])\n",
    "    zero = [x for x in s if x==0]\n",
    "    pos_set, neg_set = set(pos), set(neg)\n",
    "    \n",
    "    for i in range(len(pos)):\n",
    "        if (not state) & (i == len(pos)-1):\n",
    "            return state     \n",
    "        for j in range(len(neg)): \n",
    "            summd = pos[i] + neg[j]\n",
    "            if summd > 0: \n",
    "                if -summd in neg_set: \n",
    "                    \n",
    "                    return True\n",
    "            elif summd < 0: \n",
    "                if abs(summd) in pos_set:\n",
    "                    return True\n",
    "                    \n",
    "    return False\n",
    "        "
   ]
  },
  {
   "cell_type": "code",
   "execution_count": 110,
   "id": "f03c4203-a179-44d8-b1c8-02184b600e07",
   "metadata": {},
   "outputs": [],
   "source": [
    "k = [3, 5, 8, 10, -9, 16, 2]"
   ]
  },
  {
   "cell_type": "code",
   "execution_count": 119,
   "id": "bcdc841a-787f-4f3c-8547-5082ae9fa795",
   "metadata": {},
   "outputs": [
    {
     "data": {
      "text/plain": [
       "array([ -5, -16,   1, -10,  -5,   3,  -1, -14, -13,  -5,  -6,  -9,  17,\n",
       "        12,  -7,   3, -17,  19,  13, -10,   5,   0,  -2,  16, -18,  -2,\n",
       "        19,   5,  -4,  18, -12, -18, -12,  19,   9, -19,  -2,  13,  19,\n",
       "       -14,  -8,   7,   0,   2,  16, -10,  11,  -5, -16,   3,  -9, -19,\n",
       "        17, -17,  -1,   6, -19,  15,  17, -16,   8,  15,   8,  14,  13,\n",
       "        16,   4,   0,   0,  -4, -15,   5,   5,  19,   3,  -2,   9,  -8,\n",
       "        13,  -3,  -2,  18,  -7,  14, -10,   3, -14,  -9,  -4,  -4, -15,\n",
       "         1,   2,  12,  -1,  12, -11,  10,  -8, -17])"
      ]
     },
     "execution_count": 119,
     "metadata": {},
     "output_type": "execute_result"
    }
   ],
   "source": [
    "a = np.random.randint(-20,20, 100)\n",
    "a"
   ]
  },
  {
   "cell_type": "code",
   "execution_count": 120,
   "id": "8aaac8ca-64da-4598-b784-fc5103f917e6",
   "metadata": {},
   "outputs": [
    {
     "name": "stdout",
     "output_type": "stream",
     "text": [
      "-18\n"
     ]
    },
    {
     "data": {
      "text/plain": [
       "True"
      ]
     },
     "execution_count": 120,
     "metadata": {},
     "output_type": "execute_result"
    }
   ],
   "source": [
    "sum3(a)"
   ]
  },
  {
   "cell_type": "code",
   "execution_count": 113,
   "id": "dd7e895a-d610-4ee0-900f-89919f8520ca",
   "metadata": {},
   "outputs": [
    {
     "data": {
      "text/plain": [
       "set"
      ]
     },
     "execution_count": 113,
     "metadata": {},
     "output_type": "execute_result"
    }
   ],
   "source": [
    "1 \n",
    "11 \n",
    "21\n",
    "1211\n",
    "111221\n",
    "312211"
   ]
  },
  {
   "cell_type": "code",
   "execution_count": null,
   "id": "9d14cd6e-2f65-45db-b5a7-dc5e72aee5c5",
   "metadata": {},
   "outputs": [],
   "source": [
    "count  then number"
   ]
  },
  {
   "cell_type": "code",
   "execution_count": 121,
   "id": "6f44cd25-8516-4b61-b40e-d5cee65b1932",
   "metadata": {},
   "outputs": [
    {
     "data": {
      "text/plain": [
       "900"
      ]
     },
     "execution_count": 121,
     "metadata": {},
     "output_type": "execute_result"
    }
   ],
   "source": [
    "30 * 30"
   ]
  },
  {
   "cell_type": "code",
   "execution_count": 122,
   "id": "8a8eebba-3992-4504-a12c-18b8a970f7d2",
   "metadata": {},
   "outputs": [
    {
     "data": {
      "text/plain": [
       "225"
      ]
     },
     "execution_count": 122,
     "metadata": {},
     "output_type": "execute_result"
    }
   ],
   "source": [
    "20)"
   ]
  },
  {
   "cell_type": "code",
   "execution_count": null,
   "id": "dc3464c4-0d93-4923-b908-c803a66bc429",
   "metadata": {},
   "outputs": [],
   "source": []
  }
 ],
 "metadata": {
  "kernelspec": {
   "display_name": "Python 3 (ipykernel)",
   "language": "python",
   "name": "python3"
  },
  "language_info": {
   "codemirror_mode": {
    "name": "ipython",
    "version": 3
   },
   "file_extension": ".py",
   "mimetype": "text/x-python",
   "name": "python",
   "nbconvert_exporter": "python",
   "pygments_lexer": "ipython3",
   "version": "3.8.10"
  }
 },
 "nbformat": 4,
 "nbformat_minor": 5
}
